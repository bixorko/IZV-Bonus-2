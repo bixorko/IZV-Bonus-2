{
 "metadata": {
  "language_info": {
   "codemirror_mode": {
    "name": "ipython",
    "version": 3
   },
   "file_extension": ".py",
   "mimetype": "text/x-python",
   "name": "python",
   "nbconvert_exporter": "python",
   "pygments_lexer": "ipython3",
   "version": "3.8.6-candidate"
  },
  "orig_nbformat": 2,
  "kernelspec": {
   "name": "Python 3.8.6 64-bit",
   "display_name": "Python 3.8.6 64-bit",
   "metadata": {
    "interpreter": {
     "hash": "f86ad68eb676df9eeb1f87aa0081503b48d7244c5d686abcee45107f69e5ee9b"
    }
   }
  }
 },
 "nbformat": 4,
 "nbformat_minor": 2,
 "cells": [
  {
   "source": [
    "## Bonusový úkol č. 2 - stahování dat z webového zdroje\n",
    "Vytvořte funkci **sync()**, která získá kompletní seznam produktů (tj. včetně dalších stránek) dostupných v kategorii\n",
    "https://www.alza.cz/bezzrcadlovky-bez-objektivu/18863907.htm\n",
    "a u každého produktu zjistí jeho aktuální cenu a stav skladu.\n",
    "Funkce bude uchovávat získané informace a historii změn v relační databázi SQLLite3 obsahující dvě tabulky:  \n",
    "* tabulku `products` a  \n",
    "* tabulku `products_history`.\n",
    "\n",
    "Struktura obou tabulek je shodná a obsahuje následující sloupce:  \n",
    "* `id` TEXT - id produktu, např. OS072i1l1 (viz data-impression-id),  \n",
    "* `url` TEXT - url produktu k kterému se vztahuje cena (pouze část path, viz ukázka na konci),  \n",
    "* `title` TEXT - název produktu,  \n",
    "* `price` DECIMAL - cena produktu s DPH k danému datu,   \n",
    "* `stock_state` TEXT - stav skladu k danému datu,  \n",
    "* `last_update` DATETIME - datum poslední změny hodnot záznamu v UTC  \n",
    "\n",
    "Do tabulky `products_history` zkopírujte záznam z tabulky `products` ve chvíli, kdy se změnil nějaký sledovaný údaj (název, cena nebo stav skladu) a je potřeba aktualizovat data v tabulce `products`. Pozor, jedno `id` může mít více variant `url` s různou cenou. Při opětovném volání funkce **sync()** se prověří existence záznamu v `products`, prověří se shoda hodnot a vždy aktualizuje hodnota `last_update`, aby bylo zřejmé, ke kterému datu je informace platná.\n",
    "\n",
    "**Předpokládaná náročnost**: 1 hodina"
   ],
   "cell_type": "markdown",
   "metadata": {}
  },
  {
   "source": [
    "### Závislosti, načtení knihoven\n",
    "\n",
    "V následující buňce deklarujte všechny závislosti"
   ],
   "cell_type": "markdown",
   "metadata": {}
  },
  {
   "cell_type": "code",
   "execution_count": 17,
   "metadata": {},
   "outputs": [],
   "source": [
    "%pip install requests requests_cache bs4\n",
    "\n",
    "import requests, requests_cache, sqlite3, random\n",
    "from bs4 import BeautifulSoup\n",
    "import datetime\n",
    "\n",
    "#pro vývoj je vhodné zapnout cache (viz přednáška), pro finalní otestovaní tento řádek zakomentujte\n",
    "#requests_cache.install_cache('devel') \n",
    "\n",
    "#nadeklarujeme si novy typ sloupce DECIMAL do sqlite3, abychom měli automatický převod mezi SQLite3 a Python\n",
    "from decimal import Decimal\n",
    "sqlite3.register_adapter(Decimal, lambda d: str(d))\n",
    "sqlite3.register_converter(\"DECIMAL\", lambda s: Decimal(s.decode('ascii')))"
   ]
  },
  {
   "source": [
    "### Deklarace funkce\n",
    "\n",
    "V následujícím boxu definujte funkci **sync(name)** s jedním parametrem (název souboru s DB), která provede zadanou operaci. \n",
    "Pro přístup k DB lze s ohledem na složitost zadání použít přímo funkcionalitu vestavěného modulu sqlite3 (viz https://docs.python.org/2/library/sqlite3.html).\n",
    "\n",
    "**TIP**: pro získání seznamu všech produktů lze použít endpoint https://www.alza.cz/Services/EShopService.svc/Filter\n",
    "\n",
    "Mohlo by se také hodit: https://curl.trillworks.com/"
   ],
   "cell_type": "markdown",
   "metadata": {}
  },
  {
   "cell_type": "code",
   "execution_count": 15,
   "metadata": {},
   "outputs": [],
   "source": [
    "# V tomto boxu pouze implementujte funkci ale nevolejte ji (pro vývoj si vytvořte vlastní buňky).\n",
    "# nezapomeňte na cookies a hlavičky, jinak se Vám může zobrazit otázka \"nejste robot?\"\n",
    "def sync(dbfile='data.sqlite'):\n",
    "    with sqlite3.connect(dbfile, detect_types=sqlite3.PARSE_DECLTYPES) as conn:\n",
    "        c = conn.cursor()\n",
    "        c.execute('''CREATE TABLE IF NOT EXISTS products\n",
    "                  (id TEXT, url TEXT, title TEXT, price DECIMAL, stock_state TEXT, last_update DATETIME, PRIMARY KEY(id,url))''')\n",
    "        \n",
    "        c.execute('''CREATE TABLE IF NOT EXISTS products_history\n",
    "                  (id TEXT, url TEXT, title TEXT, price DECIMAL, stock_state TEXT, last_update DATETIME)''')\n",
    "\n",
    "        c.execute('''CREATE INDEX IF NOT EXISTS idx_id ON products (id)''')\n",
    "        c.execute('''CREATE INDEX IF NOT EXISTS idx_idurl ON products_history (id, url)''')\n",
    "\n",
    "        s = requests.session()\n",
    "        \n",
    "        response = requests.post('https://www.alza.cz/Services/EShopService.svc/Filter', json={\n",
    "         'idCategory': 18863907, \n",
    "         'producers': '', \n",
    "         'parameters': [], \n",
    "         'idPrefix': 0, \n",
    "         'prefixType': 0, \n",
    "         'page': 1, \n",
    "         'pageTo': 4, \n",
    "         'inStock': False, \n",
    "         'newsOnly': False, \n",
    "         'commodityStatusType': None, \n",
    "         'upperDescriptionStatus': 0, \n",
    "         'branchId': -2, \n",
    "         'sort': 0, \n",
    "         'categoryType': 1, \n",
    "         'searchTerm': '', \n",
    "         'sendProducers': False, \n",
    "         'layout': 0, \n",
    "         'append': False, \n",
    "         'leasingCatId': None, \n",
    "         'yearFrom': None, \n",
    "         'yearTo': None, \n",
    "         'artistId': None, \n",
    "         'minPrice': -1, \n",
    "         'maxPrice': -1, \n",
    "         'shouldDisplayVirtooal': False, \n",
    "         'callFromParametrizationDialog': False, \n",
    "         'commodityWearType': None, \n",
    "         'scroll': 11474, \n",
    "         'hash': '#f&cst=null&cud=0&pg=1-4&prod=', \n",
    "         'counter': 3\n",
    "        })\n",
    "\n",
    "        jsn = response.json()\n",
    "        dataHtml = jsn['d']['Boxes']\n",
    "        soup = BeautifulSoup(dataHtml, \"html.parser\")\n",
    "        aTag = soup.findAll('a', {'class': 'pc browsinglink'})\n",
    "        ids = [id['data-impression-id'] for id in aTag]\n",
    "        urls = [url['href'] for url in aTag]\n",
    "        titles = [title['data-impression-name'] for title in aTag]\n",
    "        prices = [price['data-impression-metric2'] for price in aTag]\n",
    "        stocks = [stock['data-impression-dimension13'] for stock in aTag]\n",
    "\n",
    "        for id, url, title, price, stock in zip(ids, urls, titles, prices, stocks):\n",
    "            price = price.replace(',', '.') #decimal format\n",
    "            c.execute(\"SELECT EXISTS(SELECT 1 FROM products WHERE id=? AND url=?)\",(id, url,))\n",
    "            if (c.fetchone()[0] == 1):\n",
    "                c.execute(\"SELECT * FROM products WHERE id=? AND url=?\", (id,url,))\n",
    "                rows = c.fetchall()\n",
    "                for row in rows:\n",
    "                    if row[2] != title or float(round(row[3], 2)) != float(price) or row[4] != stock:\n",
    "                        c.execute(\"INSERT INTO products_history VALUES (?,?,?,?,?,?)\",(id, url, row[2], float(round(row[3], 2)), row[4], row[5]),) \n",
    "                        c.execute(\"UPDATE products SET title=?, price=?, stock_state=?, last_update=? WHERE id=? AND url=?\", (title, price, stock,datetime.datetime.utcnow(), id, url))\n",
    "                    else:\n",
    "                        c.execute(\"UPDATE products SET last_update=? WHERE id=? AND url=?\", (datetime.datetime.utcnow(), id, url))\n",
    "            else:                    #if not exists\n",
    "                c.execute(\"INSERT INTO products VALUES (?,?,?,?,?,?)\",(id, url, title, price, stock, datetime.datetime.utcnow()),) #add firsttime into database\n",
    "\n",
    "        conn.commit()        \n",
    "        c.close()"
   ]
  },
  {
   "source": [
    "### Ověření korektní funkce\n",
    "\n",
    "Na následujícím kódu lze ověřit základní funkcionalitu. Měly byste dostat stejný výstup jako je v ukázce. Protože se však stav e-shopu může měnit, uzpůsobte si eventuelně dotaz dle potřeb. Momentálně se testuje existence produktu https://www.alza.cz/sony-alpha-7ii?dq=2286288 ev. \n",
    "https://www.alza.cz/kod/OS072i1p5.\n",
    "\n",
    "Při ověřování korektní funkce Vaší implementace bude porovnán obsah DB vytvořený Vaší funkcí s předpokládaným obsahem DB v určitou dobu a poté znovu s několika hodinovým odstupem."
   ],
   "cell_type": "markdown",
   "metadata": {}
  },
  {
   "cell_type": "code",
   "execution_count": 16,
   "metadata": {},
   "outputs": [
    {
     "output_type": "stream",
     "name": "stdout",
     "text": [
      "('OS072i1p5', '/sony-alpha-7ii?dq=2286288', Decimal('31490'))\n[('OF7032a', '/fujifilm-x-t3?dq=5457426', Decimal('39990')), ('OF7032a', '/fujifilm-x-t3-telo-cerny-levne-d5754350.htm', Decimal('36989.7')), ('OF7032a', '/fujifilm-x-t3-telo-cerny-sleva-d5877920.htm', Decimal('33990.11'))]\nOK\n"
     ]
    }
   ],
   "source": [
    "from contextlib import closing\n",
    "\n",
    "sync('data.sqlite')\n",
    "\n",
    "with sqlite3.connect('data.sqlite', detect_types=sqlite3.PARSE_DECLTYPES) as conn:\n",
    "    with closing(conn.cursor()) as c:\n",
    "        c.execute('SELECT id, url, price FROM products WHERE id=? AND url=? AND price>20000', ('OS072i1p5','/sony-alpha-7ii?dq=2286288'))\n",
    "        r = c.fetchone()\n",
    "        print(r)\n",
    "        assert(r != None)\n",
    "\n",
    "        c.execute('SELECT id, url, price FROM products WHERE id=? AND price>30000', ('OF7032a',))\n",
    "        r = c.fetchall()\n",
    "        print(r)\n",
    "        assert (len(r)>0 and '/fujifilm-x-t3?dq=5457426' in [a[1] for a in r])\n",
    "\n",
    "print(\"OK\")        "
   ]
  },
  {
   "source": [
    "### Komentář\n",
    "Do pole níže můžete vložit textový komentář týkající se tohoto úkolu. Např. jak dlouho Vám trvalo řešení, co bylo obtížné, co bylo se mělo více v rámci přenášky vysvětlit apod."
   ],
   "cell_type": "markdown",
   "metadata": {}
  },
  {
   "source": [
    "n/a"
   ],
   "cell_type": "markdown",
   "metadata": {}
  }
 ]
}